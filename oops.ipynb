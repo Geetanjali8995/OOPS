{
  "nbformat": 4,
  "nbformat_minor": 0,
  "metadata": {
    "colab": {
      "provenance": []
    },
    "kernelspec": {
      "name": "python3",
      "display_name": "Python 3"
    },
    "language_info": {
      "name": "python"
    }
  },
  "cells": [
    {
      "cell_type": "markdown",
      "source": [
        "#**Theoretical Questions**\n",
        "Q.1.What is Object-Oriented Programming (OOP)?\n",
        "\n",
        "Ans:Object-Oriented Programming (OOP) is a programming paradigm that organizes software design around objects, which are instances of classes. It focuses on structuring code to model real-world entities and their interactions.\n",
        "\n",
        "\n",
        "---\n",
        "\n",
        "\n",
        "Q.2. What is a class in OOP?\n",
        "\n",
        "Ans:A class in Object-Oriented Programming (OOP) is a blueprint or template for creating objects. It defines the attributes (data/properties) and methods (functions/behaviors) that objects created from the class will have.\n",
        "\n",
        "**Key Components of a Class**\n",
        "\n",
        "Attributes (Variables/Data Members) – Store object-specific information.\n",
        "\n",
        "Methods (Functions/Behaviors) – Define actions the object can perform.\n",
        "\n",
        "Constructor (__init__ method in Python) – Initializes an object’s attributes when it's created.\n",
        "\n",
        "Why Use Classes?\n",
        "\n",
        "Code Reusability: Write once, create multiple objects.\n",
        "\n",
        "Organization: Keeps related data and functions together.\n",
        "\n",
        "Scalability: Makes it easy to expand and modify code.\n",
        "\n",
        "---\n",
        "Q.3. What is an object in OOP?\n",
        "\n",
        "Ans:An object is an instance of a class. It represents a real-world entity with specific data (attributes) and behavior (methods).\n",
        "\n",
        "Think of a class as a blueprint, and an object as the actual house built from that blueprint. Multiple objects can be created from the same class, each with its own unique attributes.\n",
        "\n",
        "Key Characteristics of an Object:\n",
        "\n",
        "Identity – A unique instance of a class.\n",
        "\n",
        "State (Attributes/Data Members) – Stores values unique to the object.\n",
        "\n",
        "Behavior (Methods/Functions) – Defines what the object can do.\n",
        "\n",
        "\n",
        "---\n",
        "Q.4.  What is the difference between abstraction and encapsulation?\n",
        "\n",
        "Ans: Abstraction and encapsulation are both fundamental concepts in object-oriented programming (OOP), but they serve different purposes:\n",
        "\n",
        "**Abstraction**\n",
        "\n",
        "*Definition:* Abstraction is the process of hiding implementation details and showing only the necessary features of an object.\n",
        "\n",
        "*Purpose:* It simplifies complex systems by exposing only relevant parts to the user.\n",
        "\n",
        "*How it works:* Achieved using abstract classes and interfaces in languages like Java and C++.\n",
        "\n",
        "*Example:*\n",
        "A car’s dashboard provides abstraction; the driver only interacts with the steering, accelerator, and brakes without knowing how the engine works internally.\n",
        "\n",
        "**Encapsulation:**\n",
        "\n",
        "*Definition:* Encapsulation is the process of hiding data and restricting access to it by bundling the data and methods that operate on the data into a single unit (class).\n",
        "\n",
        "*Purpose:* It protects the data from unintended modifications and promotes data integrity.\n",
        "\n",
        "*How it works:* Achieved using access modifiers (private, protected, public) in OOP languages.\n",
        "\n",
        "*Example:*\n",
        "In a bank account class, the balance variable is private, and it can only be modified using deposit and withdraw methods.\n",
        "\n",
        "---\n",
        "Q.5.  What are dunder methods in Python?\n",
        "\n",
        "Ans:Dunder methods (short for \"double underscore\" methods) are special methods in Python that have double underscores (__) at the beginning and end of their names. They are also called magic methods because they define how objects behave with built-in operations like addition, string conversion, iteration, and more.\n",
        "\n",
        "Common Dunder Methods:\n",
        "\n",
        "1.Object Initialization and Representation:\n",
        "\n",
        "__init__ :Initializes an object when it's created.\n",
        "\n",
        "__str__\t:Returns a user-friendly string representation\n",
        "\n",
        "__repr__\t:Returns an official string representation (for debugging)\n",
        "\n",
        "\n",
        "\n",
        "\n",
        "\n"
      ],
      "metadata": {
        "id": "05eya4QhxY5o"
      }
    },
    {
      "cell_type": "code",
      "source": [
        "class Person:\n",
        "    def __init__(self, name):\n",
        "        self.name = name\n",
        "\n",
        "    def __str__(self):\n",
        "        return f\"Person: {self.name}\"\n",
        "\n",
        "    def __repr__(self):\n",
        "        return f\"Person('{self.name}')\"\n",
        "\n",
        "p = Person(\"Alice\")\n",
        "print(str(p))   # Calls __str__ → Output: Person: Alice\n",
        "print(repr(p))  # Calls __repr__ → Output: Person('Alice')\n"
      ],
      "metadata": {
        "colab": {
          "base_uri": "https://localhost:8080/"
        },
        "id": "94Tq82QsPdCf",
        "outputId": "e3c20f5c-1151-4799-ad6f-564798ed0a1b"
      },
      "execution_count": null,
      "outputs": [
        {
          "output_type": "stream",
          "name": "stdout",
          "text": [
            "Person: Alice\n",
            "Person('Alice')\n"
          ]
        }
      ]
    },
    {
      "cell_type": "markdown",
      "source": [
        "2.Arithmetic Operations:\n",
        "\n",
        "__add__\t: Defines behavior for + (addition)\n",
        "\n",
        "__sub__\t: Defines behavior for - (subtraction)\n",
        "\n",
        "__mul__\t: Defines behavior for * (multiplication)"
      ],
      "metadata": {
        "id": "B0kctixjP0En"
      }
    },
    {
      "cell_type": "code",
      "source": [
        "class Number:\n",
        "    def __init__(self, value):\n",
        "        self.value = value\n",
        "\n",
        "    def __add__(self, other):\n",
        "        return Number(self.value + other.value)\n",
        "\n",
        "n1 = Number(10)\n",
        "n2 = Number(5)\n",
        "n3 = n1 + n2  # Calls __add__\n",
        "print(n3.value)  # Output: 15\n"
      ],
      "metadata": {
        "colab": {
          "base_uri": "https://localhost:8080/"
        },
        "id": "mJw1p110QNPR",
        "outputId": "fa397465-c0e5-4640-e6bc-cd3f3f019a3d"
      },
      "execution_count": null,
      "outputs": [
        {
          "output_type": "stream",
          "name": "stdout",
          "text": [
            "15\n"
          ]
        }
      ]
    },
    {
      "cell_type": "markdown",
      "source": [
        "3.Comparison Operations:\n",
        "\n",
        "__eq__ : Defines behavior for ==\n",
        "__lt__ : Defines behavior for <\n",
        "__gt__ : Defines behavior for >\n"
      ],
      "metadata": {
        "id": "6cm5W8YxQZCl"
      }
    },
    {
      "cell_type": "code",
      "source": [
        "class Number:\n",
        "    def __init__(self, value):\n",
        "        self.value = value\n",
        "\n",
        "    def __eq__(self, other):\n",
        "        return self.value == other.value\n",
        "\n",
        "n1 = Number(10)\n",
        "n2 = Number(10)\n",
        "print(n1 == n2)  # Calls __eq__, Output: True\n"
      ],
      "metadata": {
        "colab": {
          "base_uri": "https://localhost:8080/"
        },
        "id": "3YP7ON55QtY2",
        "outputId": "4a2c8949-7faa-4303-8c65-b1eebb32019d"
      },
      "execution_count": null,
      "outputs": [
        {
          "output_type": "stream",
          "name": "stdout",
          "text": [
            "True\n"
          ]
        }
      ]
    },
    {
      "cell_type": "markdown",
      "source": [
        "4.Length and Indexing:\n",
        "\n",
        "__len__ : Defines behavior for len(obj)\n",
        "__getitem__ : Defines behavior for obj[index]"
      ],
      "metadata": {
        "id": "_QCmvnXlQy_5"
      }
    },
    {
      "cell_type": "code",
      "source": [
        "class MyList:\n",
        "    def __init__(self, items):\n",
        "        self.items = items\n",
        "\n",
        "    def __len__(self):\n",
        "        return len(self.items)\n",
        "\n",
        "    def __getitem__(self, index):\n",
        "        return self.items[index]\n",
        "\n",
        "ml = MyList([10, 20, 30])\n",
        "print(len(ml))     # Calls __len__, Output: 3\n",
        "print(ml[1])       # Calls __getitem__, Output: 20\n"
      ],
      "metadata": {
        "colab": {
          "base_uri": "https://localhost:8080/"
        },
        "id": "gBxHNfopRIjN",
        "outputId": "b9fa5675-470f-438d-d148-5c22349ada94"
      },
      "execution_count": null,
      "outputs": [
        {
          "output_type": "stream",
          "name": "stdout",
          "text": [
            "3\n",
            "20\n"
          ]
        }
      ]
    },
    {
      "cell_type": "markdown",
      "source": [
        "5.Attribute Access:\n",
        "\n",
        "__getattr__\t: Called when an attribute is not found\n",
        "__setattr__\t: Defines behavior for setting attributes"
      ],
      "metadata": {
        "id": "cN3XKHNPRL49"
      }
    },
    {
      "cell_type": "code",
      "source": [
        "class Person:\n",
        "    def __init__(self, name):\n",
        "        self.name = name\n",
        "\n",
        "    def __getattr__(self, attr):\n",
        "        return f\"{attr} not found\"\n",
        "\n",
        "p = Person(\"Alice\")\n",
        "print(p.age)  # Calls __getattr__, Output: age not found\n"
      ],
      "metadata": {
        "colab": {
          "base_uri": "https://localhost:8080/"
        },
        "id": "hvotCnqKRiI5",
        "outputId": "34189180-bb4e-4448-e917-672864bc6747"
      },
      "execution_count": null,
      "outputs": [
        {
          "output_type": "stream",
          "name": "stdout",
          "text": [
            "age not found\n"
          ]
        }
      ]
    },
    {
      "cell_type": "markdown",
      "source": [
        "6.Context Manager Methods (with Statement):\n",
        "\n",
        "__enter__ : Defines behavior for entering a with block\n",
        "__exit__ :  Defines behavior for exiting a with block\n"
      ],
      "metadata": {
        "id": "qF1tcuNURna1"
      }
    },
    {
      "cell_type": "code",
      "source": [
        "class MyContext:\n",
        "    def __enter__(self):\n",
        "        print(\"Entering context\")\n",
        "        return self\n",
        "\n",
        "    def __exit__(self, exc_type, exc_value, traceback):\n",
        "        print(\"Exiting context\")\n",
        "\n",
        "with MyContext():\n",
        "    print(\"Inside with block\")\n"
      ],
      "metadata": {
        "colab": {
          "base_uri": "https://localhost:8080/"
        },
        "id": "K1B7t9o1R57s",
        "outputId": "905b93e0-164b-4632-de22-0f27825b0c9c"
      },
      "execution_count": null,
      "outputs": [
        {
          "output_type": "stream",
          "name": "stdout",
          "text": [
            "Entering context\n",
            "Inside with block\n",
            "Exiting context\n"
          ]
        }
      ]
    },
    {
      "cell_type": "markdown",
      "source": [
        "Q.6. Explain the concept of inheritance in OOP?\n",
        "\n",
        "Ans: **Definition:**\n",
        "\n",
        "Inheritance is a fundamental concept in Object-Oriented Programming (OOP) that allows a class (child/subclass) to inherit attributes and methods from another class (parent/superclass). This promotes code reuse, hierarchical relationships, and polymorphism.\n",
        "\n",
        "Key Features of Inheritance:\n",
        "\n",
        "✅ Code Reusability – Avoids duplication by using existing class functionality.\n",
        "\n",
        "✅ Method Overriding – A subclass can modify methods of a parent class.\n",
        "\n",
        "✅ Hierarchical Structure – Allows the organization of related classes.\n",
        "\n",
        "✅ Polymorphism Support – Enables objects to be treated as instances of their parent class.\n",
        "\n",
        "---\n",
        "\n",
        "\n",
        "Q.7. What is polymorphism in OOP?\n",
        "\n",
        "Ans:Polymorphism in Object-Oriented Programming (OOP) is the ability of a function, method, or object to take multiple forms. It allows the same interface to be used for different underlying data types, improving flexibility and code reusability.\n",
        "\n",
        "**Types of Polymorphism:**\n",
        "\n",
        "1.Compile-time Polymorphism (Static Binding):\n",
        "Achieved using method overloading and operator overloading.\n",
        "The method to be executed is determined at compile-time.\n",
        "\n",
        "2.Run-time Polymorphism (Dynamic Binding):\n",
        "Achieved using method overriding and virtual functions.\n",
        "The method to be executed is determined at runtime.\n",
        "\n",
        "**Benefits of Polymorphism:**\n",
        "\n",
        "Enhances code reusability and maintainability.\n",
        "\n",
        "Supports extensibility by allowing new behaviors without modifying existing code.\n",
        "\n",
        "Encourages loose coupling in large systems.\n",
        "\n",
        "\n",
        "---\n",
        "Q.8  How is encapsulation achieved in Python?\n",
        "\n",
        "Ans:Encapsulation is one of the fundamental principles of Object-Oriented Programming (OOP). It is the mechanism of restricting direct access to some of an object's data and methods, and it is usually achieved using private and protected access modifiers.\n",
        "\n",
        "Python achieves encapsulation through data hiding and getter/setter methods:\n",
        "\n",
        "Using Underscores for Access Control:\n",
        "\n",
        "Public Members: Accessible from anywhere.\n",
        "Protected Members (_variable): Indicated by a single underscore; should not be accessed directly, but it's still possible.\n",
        "\n",
        "Private Members (__variable): Indicated by a double underscore; cannot be accessed directly outside the class.\n",
        "\n",
        "Using Getter and Setter Methods:\n",
        "These methods provide controlled access to private attributes.\n",
        "\n",
        "\n",
        "---\n",
        "Q.9.  What is a constructor in Python?\n",
        "\n",
        "Ans:A constructor in Python is a special method that is automatically called when an object of a class is created. It is used to initialize the attributes of the object. In Python, the constructor method is defined using __init__().\n",
        "\n",
        "**Syntax of a Constructor**\n",
        "\n",
        "\n",
        "\n",
        "\n",
        "\n",
        "\n"
      ],
      "metadata": {
        "id": "XTpmEvzOSBn1"
      }
    },
    {
      "cell_type": "code",
      "source": [
        "class ClassName:\n",
        "    def __init__(self, parameters):\n",
        "        # Initialize attributes\n"
      ],
      "metadata": {
        "id": "1TKUTRJ0q_r1"
      },
      "execution_count": null,
      "outputs": []
    },
    {
      "cell_type": "markdown",
      "source": [
        "**Types of Constructors in Python**\n",
        "\n",
        "Python supports three types of constructors:\n",
        "\n",
        "1. Default Constructor (No Parameters):\n",
        "\n",
        "A default constructor doesn’t take any arguments except self. It initializes the object without any external input.\n",
        "\n",
        "2. Parameterized Constructor:\n",
        "\n",
        "A parameterized constructor accepts arguments and initializes attributes accordingly.\n",
        "\n",
        "3.  Constructor with Default Values:\n",
        "\n",
        "A constructor can have default values for parameters if no arguments are provided during object creation.\n",
        "\n",
        "---\n",
        "Q.10. What are class and static methods in Python?\n",
        "\n",
        "Ans:In Python, class methods and static methods are special types of methods that are defined using decorators. They allow different ways of interacting with class attributes and objects.\n",
        "\n",
        "1. Class Methods (@classmethod):\n",
        "\n",
        "A class method is a method that operates on the class rather than an instance of the class. It is defined using the @classmethod decorator and takes cls as the first parameter, which represents the class itself.\n",
        "\n",
        "Characteristics of Class Methods:\n",
        "\n",
        "- Can modify class-level attributes.\n",
        "- Can be called on both the class itself and its instances.\n",
        "- Uses cls instead of self.\n",
        "\n"
      ],
      "metadata": {
        "id": "0Hz9OglYrHT7"
      }
    },
    {
      "cell_type": "code",
      "source": [
        "class Employee:\n",
        "    company = \"TechCorp\"  # Class attribute\n",
        "\n",
        "    def __init__(self, name, age):\n",
        "        self.name = name\n",
        "        self.age = age\n",
        "\n",
        "    @classmethod\n",
        "    def change_company(cls, new_company):\n",
        "        cls.company = new_company  # Modifies class attribute\n",
        "\n",
        "# Calling the class method\n",
        "print(Employee.company)  # Output: TechCorp\n",
        "Employee.change_company(\"Innovate Inc\")\n",
        "print(Employee.company)  # Output: Innovate Inc\n"
      ],
      "metadata": {
        "colab": {
          "base_uri": "https://localhost:8080/"
        },
        "id": "-1Vq-PBkt7K9",
        "outputId": "6acd2d85-fa8f-4989-d90e-e06d4d3268d2"
      },
      "execution_count": null,
      "outputs": [
        {
          "output_type": "stream",
          "name": "stdout",
          "text": [
            "TechCorp\n",
            "Innovate Inc\n"
          ]
        }
      ]
    },
    {
      "cell_type": "markdown",
      "source": [
        "2. Static Methods (@staticmethod):\n",
        "\n",
        "A static method is a method that doesn’t depend on the class instance (self) or class (cls). It is defined using the @staticmethod decorator.\n",
        "\n",
        "Characteristics of Static Methods:\n",
        "\n",
        "- Cannot modify class or instance attributes.\n",
        "- Acts like a regular function but is inside the class for organizational purposes.\n",
        "- Useful for utility functions related to the class."
      ],
      "metadata": {
        "id": "VYYKuYqKuSv-"
      }
    },
    {
      "cell_type": "code",
      "source": [
        "class MathUtils:\n",
        "    @staticmethod\n",
        "    def add(x, y):\n",
        "        return x + y\n",
        "\n",
        "    @staticmethod\n",
        "    def is_even(num):\n",
        "        return num % 2 == 0\n",
        "\n",
        "# Calling static methods without creating an instance\n",
        "print(MathUtils.add(5, 10))  # Output: 15\n",
        "print(MathUtils.is_even(8))  # Output: True\n"
      ],
      "metadata": {
        "colab": {
          "base_uri": "https://localhost:8080/"
        },
        "id": "Ihv59FJ0u1cZ",
        "outputId": "ceb9e056-7766-4d45-8409-5309a65d7ac0"
      },
      "execution_count": null,
      "outputs": [
        {
          "output_type": "stream",
          "name": "stdout",
          "text": [
            "15\n",
            "True\n"
          ]
        }
      ]
    },
    {
      "cell_type": "markdown",
      "source": [
        "Q.11.  What is method overloading in Python?\n",
        "\n",
        "Ans:Method overloading is a concept where multiple methods in the same class share the same name but have different numbers or types of parameters. It allows a function to handle different types of input in a flexible way.\n",
        "\n",
        "Method overloading in python can be achieved using:\n",
        "\n",
        "1 Default Arguments\n",
        "\n",
        "2 Variable-Length Arguments (*args and **kwargs)\n",
        "\n",
        "3 Function Overloading with @singledispatch (from functools)\n",
        "\n",
        "- Method Overloading Using Default Arguments:\n",
        "\n",
        "We can define a method with default values so it can be called with different numbers of arguments.\n",
        "\n"
      ],
      "metadata": {
        "id": "AsZ3S60Du6Hm"
      }
    },
    {
      "cell_type": "code",
      "source": [
        "class MathOperations:\n",
        "    def add(self, a, b=0, c=0):\n",
        "        return a + b + c  # Default values allow flexibility\n",
        "\n",
        "math = MathOperations()\n",
        "print(math.add(5))        # Output: 5\n",
        "print(math.add(5, 10))    # Output: 15\n",
        "print(math.add(5, 10, 15)) # Output: 30\n"
      ],
      "metadata": {
        "colab": {
          "base_uri": "https://localhost:8080/"
        },
        "id": "gAoow_YnygOD",
        "outputId": "f5a64f42-746c-4d44-b056-2f8f41f5e817"
      },
      "execution_count": null,
      "outputs": [
        {
          "output_type": "stream",
          "name": "stdout",
          "text": [
            "5\n",
            "15\n",
            "30\n"
          ]
        }
      ]
    },
    {
      "cell_type": "markdown",
      "source": [],
      "metadata": {
        "id": "VIvCrw36ylrd"
      }
    },
    {
      "cell_type": "markdown",
      "source": [
        "-  Method Overloading Using *args and **kwargs:\n",
        "\n",
        "**args (for variable positional arguments) and **kwargs (for keyword arguments) allow handling multiple parameters dynamically.\n",
        "\n"
      ],
      "metadata": {
        "id": "nh8WuBMiyp_N"
      }
    },
    {
      "cell_type": "code",
      "source": [
        "class MathOperations:\n",
        "    def add(self, *args):\n",
        "        return sum(args)  # Adds all given numbers\n",
        "\n",
        "math = MathOperations()\n",
        "print(math.add(5))           # Output: 5\n",
        "print(math.add(5, 10))       # Output: 15\n",
        "print(math.add(5, 10, 15))   # Output: 30\n",
        "print(math.add(1, 2, 3, 4))  # Output: 10\n"
      ],
      "metadata": {
        "colab": {
          "base_uri": "https://localhost:8080/"
        },
        "id": "YqfIHFDWzCUA",
        "outputId": "5846d013-a075-4de7-f9b3-6cbd62028877"
      },
      "execution_count": null,
      "outputs": [
        {
          "output_type": "stream",
          "name": "stdout",
          "text": [
            "5\n",
            "15\n",
            "30\n",
            "10\n"
          ]
        }
      ]
    },
    {
      "cell_type": "markdown",
      "source": [
        "- Method Overloading Using @singledispatch (for Different Data Types):\n",
        "\n",
        "Python’s functools.singledispatch allows function overloading based on argument type.\n",
        "\n"
      ],
      "metadata": {
        "id": "p125eTWBzIIj"
      }
    },
    {
      "cell_type": "code",
      "source": [
        "from functools import singledispatch\n",
        "\n",
        "@singledispatch\n",
        "def display(value):\n",
        "    print(f\"Default display: {value}\")\n",
        "\n",
        "@display.register\n",
        "def _(value: int):\n",
        "    print(f\"Integer display: {value}\")\n",
        "\n",
        "@display.register\n",
        "def _(value: float):\n",
        "    print(f\"Float display: {value}\")\n",
        "\n",
        "@display.register\n",
        "def _(value: str):\n",
        "    print(f\"String display: {value}\")\n",
        "\n",
        "display(10)       # Output: Integer display: 10\n",
        "display(5.5)      # Output: Float display: 5.5\n",
        "display(\"Hello\")  # Output: String display: Hello\n",
        "display([1, 2, 3]) # Output: Default display: [1, 2, 3]\n"
      ],
      "metadata": {
        "colab": {
          "base_uri": "https://localhost:8080/"
        },
        "id": "aBMVXPupzSDr",
        "outputId": "9b4bc96f-27f8-43c7-a502-b0dfc89847a8"
      },
      "execution_count": null,
      "outputs": [
        {
          "output_type": "stream",
          "name": "stdout",
          "text": [
            "Integer display: 10\n",
            "Float display: 5.5\n",
            "String display: Hello\n",
            "Default display: [1, 2, 3]\n"
          ]
        }
      ]
    },
    {
      "cell_type": "markdown",
      "source": [
        "Q.12.  What is method overriding in OOP?\n",
        "\n",
        "Ans:Method Overriding is an OOP feature where a subclass provides a specific implementation of a method that is already defined in its parent class. The overridden method in the subclass must have the same name, return type, and parameters as the method in the parent class.\n",
        "\n",
        "How Method Overriding Works:\n",
        "\n",
        "- A child class inherits from a parent class.\n",
        "-The child class redefines a method that exists in the parent class.\n",
        "- When the method is called on a child class object, the overridden method in the child class replaces the parent class method."
      ],
      "metadata": {
        "id": "E6fplu7azXZw"
      }
    },
    {
      "cell_type": "code",
      "source": [
        "class Animal:\n",
        "    def make_sound(self):\n",
        "        print(\"Animal makes a sound\")\n",
        "\n",
        "class Dog(Animal):\n",
        "    def make_sound(self):  # Overriding the parent method\n",
        "        print(\"Dog barks\")\n",
        "\n",
        "# Creating objects\n",
        "animal = Animal()\n",
        "dog = Dog()\n",
        "\n",
        "animal.make_sound()  # Output: Animal makes a sound\n",
        "dog.make_sound()     # Output: Dog barks (Overridden method is called)\n"
      ],
      "metadata": {
        "colab": {
          "base_uri": "https://localhost:8080/"
        },
        "id": "M36sZk-I4ClI",
        "outputId": "fa328792-9d9e-44c1-d0f4-7ca88409f898"
      },
      "execution_count": null,
      "outputs": [
        {
          "output_type": "stream",
          "name": "stdout",
          "text": [
            "Animal makes a sound\n",
            "Dog barks\n"
          ]
        }
      ]
    },
    {
      "cell_type": "markdown",
      "source": [
        "Q.13.  What is a property decorator in Python?\n",
        "\n",
        "Ans: A property decorator (@property) in Python is used to control access to an attribute in a class. It allows defining getter, setter, and deleter methods in a Pythonic way, making attributes behave like regular variables while still enforcing encapsulation.\n",
        "\n",
        "Why Use @property?\n",
        "\n",
        "✅ Encapsulation: Hides internal implementation while providing controlled access.\n",
        "\n",
        "✅ Read-only Attributes: Allows defining attributes that cannot be modified directly.\n",
        "\n",
        "✅ Validation: Enables checking conditions before setting an attribute value.\n",
        "\n",
        "---\n",
        "Q.14.  Why is polymorphism important in OOP?\n",
        "\n",
        "Ans:Polymorphism is one of the core principles of Object-Oriented Programming (OOP) that allows objects of different classes to be treated as if they are of the same class. It enables code flexibility, reusability, and scalability by allowing multiple implementations to share the same interface.\n",
        "\n",
        "1. Increases Code Reusability and Maintainability:\n",
        "Polymorphism allows writing generalized code that works with multiple data types or classes, reducing the need for redundant code.\n",
        "\n",
        "2. Enables Flexibility and Extensibility: New classes can be added without modifying existing code, following the Open/Closed Principle.\n",
        "\n",
        "3. Supports Dynamic Method Binding (Method Overriding): Method overriding allows child classes to provide custom implementations of a method while keeping a common interface.\n",
        "\n",
        "4. Facilitates Interface Design (Duck Typing in Python): Python follows duck typing: \"If it looks like a duck and quacks like a duck, it must be a duck.\"\n",
        "\n",
        "\n",
        "\n",
        "---\n",
        "Q.15.  What is an abstract class in Python?\n",
        "\n",
        "Ans:An abstract class in Python is a class that cannot be instantiated and serves as a blueprint for other classes. It defines abstract methods that must be implemented by any subclass. Abstract classes ensure that child classes follow a specific structure.\n",
        "\n",
        "Key Features of Abstract Classes:\n",
        "\n",
        "✔ Defined using ABC from the abc module.\n",
        "\n",
        "✔ Contains at least one abstract method (defined using @abstractmethod).\n",
        "\n",
        "✔ Cannot be instantiated directly.\n",
        "\n",
        "✔ Child classes must implement all abstract methods.\n",
        "\n",
        "How to Create an Abstract Class in Python:\n",
        "\n",
        "Python provides the ABC (Abstract Base Class) module in abc to define abstract classes.\n",
        "\n",
        "\n",
        "---\n",
        "\n",
        "Q.16. What are the advantages of OOP?\n",
        "\n",
        "Ans:Object-Oriented Programming (OOP) provides a structured and modular approach to software development, making code more reusable, scalable, and maintainable.\n",
        "\n",
        "1. Code Reusability (Inheritance)\n",
        "\n",
        "✅ Avoids redundant code by allowing classes to inherit attributes and methods from existing classes.\n",
        "\n",
        "✅ Enhances code efficiency by promoting a \"write once, use multiple times\" approach.\n",
        "\n",
        "2. Encapsulation (Data Hiding):\n",
        "\n",
        "✅ Protects data from unintended modifications.\n",
        "\n",
        "✅ Provides controlled access using getters and setters.\n",
        "\n",
        "3. Polymorphism (Flexibility & Extensibility):\n",
        "\n",
        "✅ Allows multiple classes to share the same interface.\n",
        "\n",
        "✅ Promotes scalable and flexible code that works with different objects.\n",
        "\n",
        "4. Abstraction (Hides Complexity):\n",
        "\n",
        "✅ Simplifies the user experience by hiding implementation details.\n",
        "\n",
        "✅ Provides only essential features while keeping the inner workings hidden.\n",
        "\n",
        "5. Modularity (Easier Maintenance & Debugging):\n",
        "\n",
        "✅ Breaks complex programs into smaller, manageable parts.\n",
        "\n",
        "✅ Enhances code organization and makes debugging easier.\n",
        "\n",
        "6. Scalability (Better Code Management):\n",
        "\n",
        "✅ OOP makes it easier to add new features without affecting existing code.\n",
        "\n",
        "✅ Supports team collaboration, where different developers work on different classes.\n",
        "\n",
        "7. Security (Access Control & Data Protection):\n",
        "\n",
        "✅ Encapsulation prevents unauthorized access to sensitive data.\n",
        "\n",
        "✅ OOP provides controlled access using public, private, and protected attributes.\n",
        "\n",
        "\n",
        "---\n",
        "Q.17. What is the difference between a class variable and an instance variable\n",
        "\n",
        "Ans:The main difference between class variables and instance variables lies in their scope, storage, and behavior in object-oriented programming (especially in Python).\n",
        "\n",
        "**Class Variable:**\n",
        "\n",
        "- Defined at the class level, outside any instance method.\n",
        "- Shared across all instances of the class.\n",
        "- Modifying a class variable affects all instances, unless an instance explicitly overrides it.\n",
        "- Stored in the class's namespace.\n",
        "\n",
        "\n",
        "\n",
        "\n",
        "\n",
        "\n",
        "\n",
        "\n",
        "\n",
        "\n"
      ],
      "metadata": {
        "id": "AWIj1-no4LTt"
      }
    },
    {
      "cell_type": "code",
      "source": [
        "class Car:\n",
        "    wheels = 4  # Class variable\n",
        "\n",
        "    def __init__(self, color):\n",
        "        self.color = color  # Instance variable\n",
        "\n",
        "car1 = Car(\"red\")\n",
        "car2 = Car(\"blue\")\n",
        "\n",
        "print(car1.wheels)  # 4 (shared)\n",
        "print(car2.wheels)  # 4 (shared)\n",
        "\n",
        "Car.wheels = 6  # Changing the class variable\n",
        "\n",
        "print(car1.wheels)  # 6\n",
        "print(car2.wheels)  # 6\n"
      ],
      "metadata": {
        "colab": {
          "base_uri": "https://localhost:8080/"
        },
        "id": "FLgIgTkAh4bX",
        "outputId": "ac8f57c5-4274-4b5c-dd73-e082d0f3c81d"
      },
      "execution_count": 1,
      "outputs": [
        {
          "output_type": "stream",
          "name": "stdout",
          "text": [
            "4\n",
            "4\n",
            "6\n",
            "6\n"
          ]
        }
      ]
    },
    {
      "cell_type": "markdown",
      "source": [
        "**Instance Variable:**\n",
        "- Defined inside the constructor (__init__) or other instance methods.\n",
        "- Unique to each instance of the class.\n",
        "- Modifying an instance variable only affects that specific instance.\n",
        "- Stored in the instance's namespace."
      ],
      "metadata": {
        "id": "0GKTsHkgiAD-"
      }
    },
    {
      "cell_type": "code",
      "source": [
        "class Car:\n",
        "    def __init__(self, color):\n",
        "        self.color = color  # Instance variable\n",
        "\n",
        "car1 = Car(\"red\")\n",
        "car2 = Car(\"blue\")\n",
        "\n",
        "print(car1.color)  # red\n",
        "print(car2.color)  # blue\n",
        "\n",
        "car1.color = \"green\"  # Changing instance variable of car1\n",
        "\n",
        "print(car1.color)  # green\n",
        "print(car2.color)  # blue (unchanged)\n"
      ],
      "metadata": {
        "colab": {
          "base_uri": "https://localhost:8080/"
        },
        "id": "n0r-NpvYiN-9",
        "outputId": "3671a544-88fe-4ba2-b442-9faff562fc25"
      },
      "execution_count": 2,
      "outputs": [
        {
          "output_type": "stream",
          "name": "stdout",
          "text": [
            "red\n",
            "blue\n",
            "green\n",
            "blue\n"
          ]
        }
      ]
    },
    {
      "cell_type": "markdown",
      "source": [
        "Q.18.  What is multiple inheritance in Python?\n",
        "\n",
        "Ans: Multiple inheritance is a feature in Python where a class can inherit from more than one parent class. This allows the child class to inherit attributes and methods from multiple sources, enabling code reusability and flexibility.\n",
        "\n"
      ],
      "metadata": {
        "id": "7oFNlJ2piPrH"
      }
    },
    {
      "cell_type": "code",
      "source": [
        "class Parent1:\n",
        "    def method1(self):\n",
        "        print(\"Method from Parent1\")\n",
        "\n",
        "class Parent2:\n",
        "    def method2(self):\n",
        "        print(\"Method from Parent2\")\n",
        "\n",
        "class Child(Parent1, Parent2):  # Inheriting from both Parent1 and Parent2\n",
        "    def method3(self):\n",
        "        print(\"Method from Child\")\n",
        "\n",
        "# Creating an instance of Child\n",
        "obj = Child()\n",
        "\n",
        "# Accessing methods from both parent classes\n",
        "obj.method1()  # Output: Method from Parent1\n",
        "obj.method2()  # Output: Method from Parent2\n",
        "obj.method3()  # Output: Method from Child\n"
      ],
      "metadata": {
        "colab": {
          "base_uri": "https://localhost:8080/"
        },
        "id": "vZffZrzxikjA",
        "outputId": "29414a86-08b5-4a66-d049-f18bebd7b9c6"
      },
      "execution_count": 3,
      "outputs": [
        {
          "output_type": "stream",
          "name": "stdout",
          "text": [
            "Method from Parent1\n",
            "Method from Parent2\n",
            "Method from Child\n"
          ]
        }
      ]
    },
    {
      "cell_type": "markdown",
      "source": [
        "**How Multiple Inheritance Works**\n",
        "- The child class (Child) gets access to all methods and attributes from both Parent1 and Parent2.\n",
        "- If there are methods with the same name in both parent classes, Method Resolution Order (MRO) determines which method is called first."
      ],
      "metadata": {
        "id": "15jWGXBYitXe"
      }
    },
    {
      "cell_type": "markdown",
      "source": [
        "Q.19. Explain the purpose of ‘’__str__’ and ‘__repr__’ ‘ methods in Python?\n",
        "\n",
        "Ans: Both __str__ and __repr__ are special (dunder) methods in Python that define how an object is represented as a string. However, they serve different purposes.\n",
        "\n",
        "__str__ (User-Friendly String Representation)\n",
        "\n",
        "- Purpose: Returns a human-readable (informal) string representation of the object.\n",
        "- Used by: print(obj) or str(obj).\n",
        "- Goal: To provide a nicely formatted string for users.\n"
      ],
      "metadata": {
        "id": "r3pdPscki2VT"
      }
    },
    {
      "cell_type": "code",
      "source": [
        "class Car:\n",
        "    def __init__(self, brand, model):\n",
        "        self.brand = brand\n",
        "        self.model = model\n",
        "\n",
        "    def __str__(self):\n",
        "        return f\"{self.brand} {self.model}\"\n",
        "\n",
        "car = Car(\"Tesla\", \"Model S\")\n",
        "print(car)  # Output: Tesla Model S\n"
      ],
      "metadata": {
        "colab": {
          "base_uri": "https://localhost:8080/"
        },
        "id": "95CApO5YjaAG",
        "outputId": "77e83638-76d8-481d-9024-483760010dab"
      },
      "execution_count": 4,
      "outputs": [
        {
          "output_type": "stream",
          "name": "stdout",
          "text": [
            "Tesla Model S\n"
          ]
        }
      ]
    },
    {
      "cell_type": "markdown",
      "source": [
        "__repr__ (Developer-Friendly String Representation)\n",
        "\n",
        "- Purpose: Returns an official, unambiguous string representation of the object (often useful for debugging).\n",
        "- Used by: repr(obj), interactive shell, and debugging tools.\n",
        "- Goal: To return a string that can ideally be used to recreate the object."
      ],
      "metadata": {
        "id": "MvO5J48ZjcPD"
      }
    },
    {
      "cell_type": "code",
      "source": [
        "class Car:\n",
        "    def __init__(self, brand, model):\n",
        "        self.brand = brand\n",
        "        self.model = model\n",
        "\n",
        "    def __repr__(self):\n",
        "        return f'Car(\"{self.brand}\", \"{self.model}\")'\n",
        "\n",
        "car = Car(\"Tesla\", \"Model S\")\n",
        "print(repr(car))  # Output: Car(\"Tesla\", \"Model S\")\n"
      ],
      "metadata": {
        "colab": {
          "base_uri": "https://localhost:8080/"
        },
        "id": "mZ2SpoRljxYb",
        "outputId": "638d3744-6ec3-4e3f-d1ad-6c1ad71bfca6"
      },
      "execution_count": 5,
      "outputs": [
        {
          "output_type": "stream",
          "name": "stdout",
          "text": [
            "Car(\"Tesla\", \"Model S\")\n"
          ]
        }
      ]
    },
    {
      "cell_type": "markdown",
      "source": [
        "Q.20.  What is the significance of the ‘super()’ function in Python?\n",
        "\n",
        "Ans:The super() function in Python is used to call methods from a parent (superclass) in a child (subclass). It allows for code reuse and helps in method resolution when using inheritance.\n",
        "\n",
        "**Why Use super()?**\n",
        "\n",
        "- Avoids Explicit Parent Class Name – If the parent class name changes, super() ensures the child class remains functional.\n",
        "- Supports Multiple Inheritance – Helps resolve method resolution order (MRO) in complex hierarchies.\n",
        "- Ensures Proper Initialization – Calls parent class constructors (__init__), preventing missing attribute errors.\n",
        "- Improves Maintainability – Makes code cleaner and easier to extend.\n"
      ],
      "metadata": {
        "id": "GT71YdjEj4xZ"
      }
    },
    {
      "cell_type": "markdown",
      "source": [
        "Q.21. What is the significance of the __del__ method in Python?\n",
        "\n",
        "Ans:The __del__ method in Python is a destructor, automatically called when an object is about to be destroyed. It is used for cleanup tasks like closing files, releasing memory, or disconnecting from databases.\n",
        "\n",
        "**How __del__ Works:**\n",
        "- It is called when an object is deleted or goes out of scope.\n",
        "- It helps free up resources before the object is removed from memory.\n",
        "- Unlike __init__, which initializes an object, __del__ cleans it up.\n",
        "\n",
        "##**Example**\n"
      ],
      "metadata": {
        "id": "GDeXpRD7kgkC"
      }
    },
    {
      "cell_type": "code",
      "source": [
        "class Demo:\n",
        "    def __init__(self, name):\n",
        "        self.name = name\n",
        "        print(f\"Object {self.name} created.\")\n",
        "\n",
        "    def __del__(self):\n",
        "        print(f\"Object {self.name} destroyed.\")\n",
        "\n",
        "# Creating an object\n",
        "obj = Demo(\"Test\")\n",
        "\n",
        "# Deleting the object manually\n",
        "del obj\n",
        "\n",
        "# Output:\n",
        "# Object Test created.\n",
        "# Object Test destroyed.\n"
      ],
      "metadata": {
        "colab": {
          "base_uri": "https://localhost:8080/"
        },
        "id": "MWuDjhH8lD1p",
        "outputId": "23803c93-f42b-4256-84c5-8c0c0c43ad8a"
      },
      "execution_count": 6,
      "outputs": [
        {
          "output_type": "stream",
          "name": "stdout",
          "text": [
            "Object Test created.\n",
            "Object Test destroyed.\n"
          ]
        }
      ]
    },
    {
      "cell_type": "markdown",
      "source": [
        "**When is __del__ Called?**\n",
        "- When an object goes out of scope (e.g., function ends).\n",
        "- When manually deleted using del.\n",
        "- When Python's garbage collector removes unused objects."
      ],
      "metadata": {
        "id": "72VqiN59lPqV"
      }
    },
    {
      "cell_type": "markdown",
      "source": [
        "Q.22.  What is the difference between @staticmethod and @classmethod in Python?\n",
        "\n",
        "Ans: Both @staticmethod and @classmethod are used to define methods that don't operate on an instance of a class, but they have different behaviors and use cases.\n",
        "\n",
        "1. @staticmethod (No Access to Class or Instance):\n",
        "- Belongs to the class, but does not have access to the class (cls) or instance (self).\n",
        "- Behaves like a regular function, but inside the class.\n",
        "- Used when a method doesn’t need to modify or access class attributes or instance attributes.\n"
      ],
      "metadata": {
        "id": "nRU7zh2ylbvO"
      }
    },
    {
      "cell_type": "code",
      "source": [
        "class MathUtils:\n",
        "    @staticmethod\n",
        "    def add(x, y):\n",
        "        return x + y\n",
        "\n",
        "# Call without creating an instance\n",
        "print(MathUtils.add(5, 3))  # Output: 8\n"
      ],
      "metadata": {
        "colab": {
          "base_uri": "https://localhost:8080/"
        },
        "id": "M5XYCqtKmAWw",
        "outputId": "af67eafa-6095-485f-d11a-43084fbfcb12"
      },
      "execution_count": 7,
      "outputs": [
        {
          "output_type": "stream",
          "name": "stdout",
          "text": [
            "8\n"
          ]
        }
      ]
    },
    {
      "cell_type": "markdown",
      "source": [
        "2. @classmethod (Access to Class but Not Instance):\n",
        "- Belongs to the class, but has access to class attributes and methods.\n",
        "- Receives cls as the first argument instead of self.\n",
        "- Used when a method needs to modify class-level data."
      ],
      "metadata": {
        "id": "bV8r2wPWmEQb"
      }
    },
    {
      "cell_type": "code",
      "source": [
        "class Car:\n",
        "    total_cars = 0  # Class attribute\n",
        "\n",
        "    def __init__(self, brand):\n",
        "        self.brand = brand\n",
        "        Car.total_cars += 1\n",
        "\n",
        "    @classmethod\n",
        "    def get_total_cars(cls):\n",
        "        return cls.total_cars\n",
        "\n",
        "# Create instances\n",
        "car1 = Car(\"Tesla\")\n",
        "car2 = Car(\"BMW\")\n",
        "\n",
        "# Call class method\n",
        "print(Car.get_total_cars())  # Output: 2\n"
      ],
      "metadata": {
        "colab": {
          "base_uri": "https://localhost:8080/"
        },
        "id": "fWLgcOJemU-A",
        "outputId": "07d1817a-01b1-4e7e-b553-0b226a1d6d08"
      },
      "execution_count": 8,
      "outputs": [
        {
          "output_type": "stream",
          "name": "stdout",
          "text": [
            "2\n"
          ]
        }
      ]
    },
    {
      "cell_type": "markdown",
      "source": [
        "Q.23. How does polymorphism work in Python with inheritance?\n",
        "\n",
        "Ans:Polymorphism allows different classes to share the same method names but implement them in their own way. In Python, polymorphism works naturally with inheritance, enabling code flexibility and reusability.\n",
        "\n",
        "**How Polymorphism Works in Inheritance**\n",
        "- A parent class defines a method (e.g., speak()), and multiple child classes override it with different behaviors.\n",
        "- A common interface can call the method, regardless of the specific class type.\n",
        "\n",
        "###**Example: Polymorphism with Method Overriding**\n"
      ],
      "metadata": {
        "id": "MFKvq1PGmXUl"
      }
    },
    {
      "cell_type": "code",
      "source": [
        "class Animal:\n",
        "    def speak(self):\n",
        "        raise NotImplementedError(\"Subclasses must implement this method\")\n",
        "\n",
        "class Dog(Animal):\n",
        "    def speak(self):\n",
        "        return \"Woof!\"\n",
        "\n",
        "class Cat(Animal):\n",
        "    def speak(self):\n",
        "        return \"Meow!\"\n",
        "\n",
        "# Using polymorphism\n",
        "animals = [Dog(), Cat()]\n",
        "\n",
        "for animal in animals:\n",
        "    print(animal.speak())  # Calls the overridden method in each subclass\n"
      ],
      "metadata": {
        "colab": {
          "base_uri": "https://localhost:8080/"
        },
        "id": "NpTz9XbmneAQ",
        "outputId": "1bbda290-7394-44a4-d376-80400f8e29fa"
      },
      "execution_count": 9,
      "outputs": [
        {
          "output_type": "stream",
          "name": "stdout",
          "text": [
            "Woof!\n",
            "Meow!\n"
          ]
        }
      ]
    },
    {
      "cell_type": "markdown",
      "source": [
        "Q.24. What is method chaining in Python OOP?\n",
        "\n",
        "Ans: Method chaining is a technique where multiple methods are called on the same object in a single line, improving code readability and fluency. It is commonly used in object-oriented programming (OOP) to perform sequential operations.\n",
        "\n",
        "**How Method Chaining Works**\n",
        "- Each method returns self (the object itself) to allow chaining.\n",
        "- Allows multiple method calls in a single expression.\n",
        "- Common in builder patterns, pandas, and ORM libraries.\n",
        "\n"
      ],
      "metadata": {
        "id": "lNYmhViZnndd"
      }
    },
    {
      "cell_type": "code",
      "source": [
        "class Person:\n",
        "    def __init__(self, name):\n",
        "        self.name = name\n",
        "        self.age = None\n",
        "        self.city = None\n",
        "\n",
        "    def set_age(self, age):\n",
        "        self.age = age\n",
        "        return self  # Returns the object itself\n",
        "\n",
        "    def set_city(self, city):\n",
        "        self.city = city\n",
        "        return self  # Enables chaining\n",
        "\n",
        "    def show(self):\n",
        "        print(f\"Name: {self.name}, Age: {self.age}, City: {self.city}\")\n",
        "        return self  # Allows further chaining if needed\n",
        "\n",
        "# Method chaining\n",
        "person = Person(\"Alice\").set_age(25).set_city(\"New York\").show()\n"
      ],
      "metadata": {
        "colab": {
          "base_uri": "https://localhost:8080/"
        },
        "id": "1AcBySQ-oIGi",
        "outputId": "1fac9f1e-ae60-410e-dd55-5f5dadd6471a"
      },
      "execution_count": 10,
      "outputs": [
        {
          "output_type": "stream",
          "name": "stdout",
          "text": [
            "Name: Alice, Age: 25, City: New York\n"
          ]
        }
      ]
    },
    {
      "cell_type": "markdown",
      "source": [
        "**Advantages of Method Chaining**\n",
        "\n",
        "✅ Concise and readable – Reduces redundant object references.\n",
        "\n",
        "✅ Fluent API style – Common in frameworks like Django ORM, Pandas, and SQLAlchemy.\n",
        "\n",
        "✅ Encourages immutability – Can be useful for functional-style programming."
      ],
      "metadata": {
        "id": "2l0GnI1VoSdz"
      }
    },
    {
      "cell_type": "markdown",
      "source": [
        "Q.25. What is the purpose of the __call__ method in Python?\n",
        "\n",
        "Ans:The __call__ method allows an instance of a class to be called like a function. This means an object with __call__ defined can be invoked using parentheses, just like a regular function.\n",
        "\n",
        "Purpose of __call__:\n",
        "\n",
        "- Allows objects to behave like functions (function-like objects).\n",
        "- Maintains state between function calls.\n",
        "- Useful for decorators, callbacks, and machine learning models.\n",
        "\n",
        "How __call__ Works:\n"
      ],
      "metadata": {
        "id": "tMiPfWRKogbE"
      }
    },
    {
      "cell_type": "code",
      "source": [
        "class Example:\n",
        "    def __call__(self, x):\n",
        "        return x * 2\n",
        "\n",
        "obj = Example()\n",
        "print(obj(5))  # Calls obj.__call__(5), Output: 10\n"
      ],
      "metadata": {
        "colab": {
          "base_uri": "https://localhost:8080/"
        },
        "id": "YkWzuumBpIPe",
        "outputId": "6c01d6a6-f71c-4152-8d41-73c9de4e7c3a"
      },
      "execution_count": 11,
      "outputs": [
        {
          "output_type": "stream",
          "name": "stdout",
          "text": [
            "10\n"
          ]
        }
      ]
    },
    {
      "cell_type": "markdown",
      "source": [
        "#**Practical Questions**"
      ],
      "metadata": {
        "id": "m8W2lhY2pNfL"
      }
    },
    {
      "cell_type": "code",
      "source": [
        "#1. Create a parent class Animal with a method speak() that prints a generic message. Create a child class Dog\n",
        "#that overrides the speak() method to print \"Bark!\"\n",
        "class Animal:\n",
        "    def speak(self):\n",
        "        print(\"This animal makes a sound.\")\n",
        "\n",
        "class Dog(Animal):\n",
        "    def speak(self):\n",
        "        print(\"Bark!\")\n",
        "\n",
        "# Creating instances\n",
        "generic_animal = Animal()\n",
        "dog = Dog()\n",
        "\n",
        "# Calling speak() method\n",
        "generic_animal.speak()  # Output: This animal makes a sound.\n",
        "dog.speak()  # Output: Bark!\n"
      ],
      "metadata": {
        "colab": {
          "base_uri": "https://localhost:8080/"
        },
        "id": "k5wOdghMpVZg",
        "outputId": "97df4dc0-567d-44fa-debf-d8252a685878"
      },
      "execution_count": 12,
      "outputs": [
        {
          "output_type": "stream",
          "name": "stdout",
          "text": [
            "This animal makes a sound.\n",
            "Bark!\n"
          ]
        }
      ]
    },
    {
      "cell_type": "code",
      "source": [
        "# 2. Write a program to create an abstract class Shape with a method area(). Derive classes Circle and Rectangle\n",
        "#from it and implement the area() method in both\n",
        "from abc import ABC, abstractmethod\n",
        "import math\n",
        "\n",
        "# Abstract Class\n",
        "class Shape(ABC):\n",
        "    @abstractmethod\n",
        "    def area(self):\n",
        "        pass  # Abstract method (must be implemented in child classes)\n",
        "\n",
        "# Derived Class: Circle\n",
        "class Circle(Shape):\n",
        "    def __init__(self, radius):\n",
        "        self.radius = radius\n",
        "\n",
        "    def area(self):\n",
        "        return math.pi * self.radius ** 2\n",
        "\n",
        "# Derived Class: Rectangle\n",
        "class Rectangle(Shape):\n",
        "    def __init__(self, width, height):\n",
        "        self.width = width\n",
        "        self.height = height\n",
        "\n",
        "    def area(self):\n",
        "        return self.width * self.height\n",
        "\n",
        "# Creating instances\n",
        "circle = Circle(5)\n",
        "rectangle = Rectangle(4, 6)\n",
        "\n",
        "# Calling area() method\n",
        "print(f\"Circle Area: {circle.area():.2f}\")  # Output: 78.54\n",
        "print(f\"Rectangle Area: {rectangle.area()}\")  # Output: 24\n"
      ],
      "metadata": {
        "colab": {
          "base_uri": "https://localhost:8080/"
        },
        "id": "fH5hWRSRpviq",
        "outputId": "d3a88a9d-48a8-4342-e064-83c530ef701b"
      },
      "execution_count": 13,
      "outputs": [
        {
          "output_type": "stream",
          "name": "stdout",
          "text": [
            "Circle Area: 78.54\n",
            "Rectangle Area: 24\n"
          ]
        }
      ]
    },
    {
      "cell_type": "code",
      "source": [
        "#Implement a multi-level inheritance scenario where a class Vehicle has an attribute type. Derive a class Car\n",
        "#and further derive a class ElectricCar that adds a battery attribute\n",
        "# Base class\n",
        "class Vehicle:\n",
        "    def __init__(self, vehicle_type):\n",
        "        self.type = vehicle_type\n",
        "\n",
        "# Derived class from Vehicle\n",
        "class Car(Vehicle):\n",
        "    def __init__(self, vehicle_type, brand):\n",
        "        super().__init__(vehicle_type)  # Call Vehicle's constructor\n",
        "        self.brand = brand\n",
        "\n",
        "# Further derived class from Car\n",
        "class ElectricCar(Car):\n",
        "    def __init__(self, vehicle_type, brand, battery_capacity):\n",
        "        super().__init__(vehicle_type, brand)  # Call Car's constructor\n",
        "        self.battery = battery_capacity\n",
        "\n",
        "    def show_details(self):\n",
        "        print(f\"Type: {self.type}, Brand: {self.brand}, Battery: {self.battery} kWh\")\n",
        "\n",
        "# Creating an ElectricCar instance\n",
        "tesla = ElectricCar(\"Sedan\", \"Tesla\", 75)\n",
        "\n",
        "# Display details\n",
        "tesla.show_details()  # Output: Type: Sedan, Brand: Tesla, Battery: 75 kWh\n"
      ],
      "metadata": {
        "colab": {
          "base_uri": "https://localhost:8080/"
        },
        "id": "iPXphx_-qDtC",
        "outputId": "9e2ebb62-0979-49d4-c81b-0ffaaa12edf0"
      },
      "execution_count": 14,
      "outputs": [
        {
          "output_type": "stream",
          "name": "stdout",
          "text": [
            "Type: Sedan, Brand: Tesla, Battery: 75 kWh\n"
          ]
        }
      ]
    },
    {
      "cell_type": "code",
      "source": [
        "# Demonstrate polymorphism by creating a base class Bird with a method fly(). Create two derived classes\n",
        "## Base class\n",
        "class Bird:\n",
        "    def fly(self):\n",
        "        print(\"Some birds can fly.\")\n",
        "\n",
        "# Derived class: Sparrow\n",
        "class Sparrow(Bird):\n",
        "    def fly(self):\n",
        "        print(\"Sparrow can fly high!\")\n",
        "\n",
        "# Derived class: Penguin\n",
        "class Penguin(Bird):\n",
        "    def fly(self):\n",
        "        print(\"Penguins cannot fly, they swim!\")\n",
        "\n",
        "# Function demonstrating polymorphism\n",
        "def bird_fly_test(bird):\n",
        "    bird.fly()\n",
        "\n",
        "# Creating instances\n",
        "sparrow = Sparrow()\n",
        "penguin = Penguin()\n",
        "\n",
        "# Calling the fly() method using polymorphism\n",
        "bird_fly_test(sparrow)  # Output: Sparrow can fly high!\n",
        "bird_fly_test(penguin)  # Output: Penguins cannot fly, they swim!\n",
        "# Base class\n",
        "class Bird:\n",
        "    def fly(self):\n",
        "        print(\"Some birds can fly.\")\n",
        "\n",
        "# Derived class: Sparrow\n",
        "class Sparrow(Bird):\n",
        "    def fly(self):\n",
        "        print(\"Sparrow can fly high!\")\n",
        "\n",
        "# Derived class: Penguin\n",
        "class Penguin(Bird):\n",
        "    def fly(self):\n",
        "        print(\"Penguins cannot fly, they swim!\")\n",
        "\n",
        "# Function demonstrating polymorphism\n",
        "def bird_fly_test(bird):\n",
        "    bird.fly()\n",
        "\n",
        "# Creating instances\n",
        "sparrow = Sparrow()\n",
        "penguin = Penguin()\n",
        "\n",
        "# Calling the fly() method using polymorphism\n",
        "bird_fly_test(sparrow)  # Output: Sparrow can fly high!\n",
        "bird_fly_test(penguin)  # Output: Penguins cannot fly, they swim!"
      ],
      "metadata": {
        "colab": {
          "base_uri": "https://localhost:8080/"
        },
        "id": "NIfQ5Tmvqc2d",
        "outputId": "aa4d0b0f-cb7f-4ad4-be2f-341e3a0205f8"
      },
      "execution_count": 16,
      "outputs": [
        {
          "output_type": "stream",
          "name": "stdout",
          "text": [
            "Sparrow can fly high!\n",
            "Penguins cannot fly, they swim!\n",
            "Sparrow can fly high!\n",
            "Penguins cannot fly, they swim!\n"
          ]
        }
      ]
    },
    {
      "cell_type": "code",
      "source": [
        "# 5. Write a program to demonstrate encapsulation by creating a class BankAccount with private attributes\n",
        "#balance and methods to deposit, withdraw, and check balance\n",
        "class BankAccount:\n",
        "    def __init__(self, initial_balance):\n",
        "        self.__balance = initial_balance  # Private attribute\n",
        "\n",
        "    def deposit(self, amount):\n",
        "        if amount > 0:\n",
        "            self.__balance += amount\n",
        "            print(f\"Deposited: ${amount:.2f}\")\n",
        "        else:\n",
        "            print(\"Deposit amount must be positive.\")\n",
        "\n",
        "    def withdraw(self, amount):\n",
        "        if 0 < amount <= self.__balance:\n",
        "            self.__balance -= amount\n",
        "            print(f\"Withdrawn: ${amount:.2f}\")\n",
        "        else:\n",
        "            print(\"Insufficient balance or invalid amount.\")\n",
        "\n",
        "    def check_balance(self):\n",
        "        print(f\"Current balance: ${self.__balance:.2f}\")\n",
        "\n",
        "# Creating an account instance\n",
        "account = BankAccount(1000)\n",
        "\n",
        "# Performing operations\n",
        "account.deposit(500)       # Deposited: $500.00\n",
        "account.withdraw(200)      # Withdrawn: $200.00\n",
        "account.check_balance()    # Current balance: $1300.00\n",
        "\n",
        "# Trying to access private attribute (will cause an error)\n",
        "# print(account.__balance)  # AttributeError: 'BankAccount' object has no attribute '__balance'\n"
      ],
      "metadata": {
        "colab": {
          "base_uri": "https://localhost:8080/"
        },
        "id": "KdqcMxG2q3Do",
        "outputId": "c668049a-f3d1-4b0e-d028-2776bad80a76"
      },
      "execution_count": 17,
      "outputs": [
        {
          "output_type": "stream",
          "name": "stdout",
          "text": [
            "Deposited: $500.00\n",
            "Withdrawn: $200.00\n",
            "Current balance: $1300.00\n"
          ]
        }
      ]
    },
    {
      "cell_type": "code",
      "source": [
        "# 6.  6. Demonstrate runtime polymorphism using a method play() in a base class Instrument. Derive classes Guitar\n",
        "#and Piano that implement their own version of play()\n",
        "# Base class\n",
        "class Instrument:\n",
        "    def play(self):\n",
        "        print(\"An instrument is being played.\")\n",
        "\n",
        "# Derived class: Guitar\n",
        "class Guitar(Instrument):\n",
        "    def play(self):\n",
        "        print(\"Strumming the guitar!\")\n",
        "\n",
        "# Derived class: Piano\n",
        "class Piano(Instrument):\n",
        "    def play(self):\n",
        "        print(\"Playing the piano keys!\")\n",
        "\n",
        "# Function demonstrating runtime polymorphism\n",
        "def perform(instrument):\n",
        "    instrument.play()  # Calls the overridden method\n",
        "\n",
        "# Creating instances\n",
        "guitar = Guitar()\n",
        "piano = Piano()\n",
        "\n",
        "# Calling play() dynamically\n",
        "perform(guitar)  # Output: Strumming the guitar!\n",
        "perform(piano)   # Output: Playing the piano keys!\n"
      ],
      "metadata": {
        "colab": {
          "base_uri": "https://localhost:8080/"
        },
        "id": "N2NTD9C2rNF0",
        "outputId": "aae4633d-c306-4bcc-baac-317e05db3360"
      },
      "execution_count": 18,
      "outputs": [
        {
          "output_type": "stream",
          "name": "stdout",
          "text": [
            "Strumming the guitar!\n",
            "Playing the piano keys!\n"
          ]
        }
      ]
    },
    {
      "cell_type": "code",
      "source": [
        "#7. Create a class MathOperations with a class method add_numbers() to add two numbers and a static\n",
        "#method subtract_numbers() to subtract two numbers\n",
        "class MathOperations:\n",
        "    @classmethod\n",
        "    def add_numbers(cls, a, b):\n",
        "        return a + b  # Uses class method (though cls isn't needed here)\n",
        "\n",
        "    @staticmethod\n",
        "    def subtract_numbers(a, b):\n",
        "        return a - b  # Static method (doesn't use class or instance attributes)\n",
        "\n",
        "# Calling class method\n",
        "sum_result = MathOperations.add_numbers(10, 5)\n",
        "print(f\"Sum: {sum_result}\")  # Output: Sum: 15\n",
        "\n",
        "# Calling static method\n",
        "difference = MathOperations.subtract_numbers(10, 5)\n",
        "print(f\"Difference: {difference}\")  # Output: Difference: 5\n"
      ],
      "metadata": {
        "colab": {
          "base_uri": "https://localhost:8080/"
        },
        "id": "OijALwDLszUg",
        "outputId": "cba8e667-28e5-468c-d101-a01dc23e7437"
      },
      "execution_count": 19,
      "outputs": [
        {
          "output_type": "stream",
          "name": "stdout",
          "text": [
            "Sum: 15\n",
            "Difference: 5\n"
          ]
        }
      ]
    },
    {
      "cell_type": "code",
      "source": [
        "# 8. Implement a class Person with a class method to count the total number of persons created.\n",
        "class Person:\n",
        "    count = 0  # Class variable to track the number of persons\n",
        "\n",
        "    def __init__(self, name):\n",
        "        self.name = name\n",
        "        Person.count += 1  # Increment count when a new Person is created\n",
        "\n",
        "    @classmethod\n",
        "    def get_count(cls):\n",
        "        return f\"Total persons created: {cls.count}\"\n",
        "\n",
        "# Creating instances\n",
        "p1 = Person(\"Alice\")\n",
        "p2 = Person(\"Bob\")\n",
        "p3 = Person(\"Charlie\")\n",
        "\n",
        "# Calling class method\n",
        "print(Person.get_count())  # Output: Total persons created: 3\n"
      ],
      "metadata": {
        "colab": {
          "base_uri": "https://localhost:8080/"
        },
        "id": "w3ksuOQztFZQ",
        "outputId": "547e69cd-c047-48d1-8929-50d3f5917e1e"
      },
      "execution_count": 20,
      "outputs": [
        {
          "output_type": "stream",
          "name": "stdout",
          "text": [
            "Total persons created: 3\n"
          ]
        }
      ]
    },
    {
      "cell_type": "code",
      "source": [
        "# 9. Write a class Fraction with attributes numerator and denominator. Override the str method to display the\n",
        "#fraction as \"numerator/denominator\"\n",
        "class Fraction:\n",
        "    def __init__(self, numerator, denominator):\n",
        "        if denominator == 0:\n",
        "            raise ValueError(\"Denominator cannot be zero.\")\n",
        "        self.numerator = numerator\n",
        "        self.denominator = denominator\n",
        "\n",
        "    def __str__(self):\n",
        "        return f\"{self.numerator}/{self.denominator}\"\n",
        "\n",
        "# Creating fraction instances\n",
        "frac1 = Fraction(3, 4)\n",
        "frac2 = Fraction(5, 8)\n",
        "\n",
        "# Printing the fraction objects\n",
        "print(frac1)  # Output: 3/4\n",
        "print(frac2)  # Output: 5/8\n"
      ],
      "metadata": {
        "colab": {
          "base_uri": "https://localhost:8080/"
        },
        "id": "40t-NnaTtTc_",
        "outputId": "553c8f15-1a1f-41a7-ee07-37741aaed353"
      },
      "execution_count": 21,
      "outputs": [
        {
          "output_type": "stream",
          "name": "stdout",
          "text": [
            "3/4\n",
            "5/8\n"
          ]
        }
      ]
    },
    {
      "cell_type": "code",
      "source": [
        "# 10. Demonstrate operator overloading by creating a class Vector and overriding the add method to add two\n",
        "#vectors\n",
        "class Vector:\n",
        "    def __init__(self, x, y):\n",
        "        self.x = x\n",
        "        self.y = y\n",
        "\n",
        "    def __add__(self, other):\n",
        "        if isinstance(other, Vector):\n",
        "            return Vector(self.x + other.x, self.y + other.y)\n",
        "        raise TypeError(\"Addition is only supported between two Vector objects\")\n",
        "\n",
        "    def __str__(self):\n",
        "        return f\"({self.x}, {self.y})\"\n",
        "\n",
        "# Creating vector instances\n",
        "v1 = Vector(2, 3)\n",
        "v2 = Vector(4, 5)\n",
        "\n",
        "# Adding two vectors using operator overloading\n",
        "result = v1 + v2\n",
        "\n",
        "# Displaying the result\n",
        "print(result)  # Output: (6, 8)\n"
      ],
      "metadata": {
        "colab": {
          "base_uri": "https://localhost:8080/"
        },
        "id": "ZWg3iN5dtnN4",
        "outputId": "bd31b1ee-8e57-4412-92ef-34d81ecff00d"
      },
      "execution_count": 22,
      "outputs": [
        {
          "output_type": "stream",
          "name": "stdout",
          "text": [
            "(6, 8)\n"
          ]
        }
      ]
    },
    {
      "cell_type": "code",
      "source": [
        "# 11. Create a class Person with attributes name and age. Add a method greet() that prints \"Hello, my name is\n",
        "#{name} and I am {age} years old.\n",
        "class Person:\n",
        "    def __init__(self, name, age):\n",
        "        self.name = name\n",
        "        self.age = age\n",
        "\n",
        "    def greet(self):\n",
        "        print(f\"Hello, my name is {self.name} and I am {self.age} years old.\")\n",
        "\n",
        "# Creating an instance of Person\n",
        "person1 = Person(\"Geetanjali\", 28)\n",
        "\n",
        "# Calling the greet method\n",
        "person1.greet()\n"
      ],
      "metadata": {
        "colab": {
          "base_uri": "https://localhost:8080/"
        },
        "id": "lsJW8ABPt0Xs",
        "outputId": "56dffd17-edb2-4439-998b-7f836db3d43f"
      },
      "execution_count": 24,
      "outputs": [
        {
          "output_type": "stream",
          "name": "stdout",
          "text": [
            "Hello, my name is Geetanjali and I am 28 years old.\n"
          ]
        }
      ]
    },
    {
      "cell_type": "code",
      "source": [
        "# 12. Implement a class Student with attributes name and grades. Create a method average_grade() to compute\n",
        "#the average of the grades.\n",
        "class Student:\n",
        "    def __init__(self, name, grades):\n",
        "        self.name = name\n",
        "        self.grades = grades  # List of grades\n",
        "\n",
        "    def average_grade(self):\n",
        "        if self.grades:\n",
        "            return sum(self.grades) / len(self.grades)\n",
        "        return 0  # Return 0 if no grades are present\n",
        "\n",
        "    def display(self):\n",
        "        print(f\"Student: {self.name}, Average Grade: {self.average_grade():.2f}\")\n",
        "\n",
        "# Creating student instances\n",
        "student1 = Student(\"Alice\", [85, 90, 78, 92])\n",
        "student2 = Student(\"Bob\", [88, 76, 95, 89])\n",
        "\n",
        "# Displaying student details\n",
        "student1.display()  # Output: Student: Alice, Average Grade: 86.25\n",
        "student2.display()  # Output: Student: Bob, Average Grade: 87.00\n"
      ],
      "metadata": {
        "colab": {
          "base_uri": "https://localhost:8080/"
        },
        "id": "LFb4fFiKuKBU",
        "outputId": "96f8205b-8cf9-47aa-a278-8f804a0c02a0"
      },
      "execution_count": 25,
      "outputs": [
        {
          "output_type": "stream",
          "name": "stdout",
          "text": [
            "Student: Alice, Average Grade: 86.25\n",
            "Student: Bob, Average Grade: 87.00\n"
          ]
        }
      ]
    },
    {
      "cell_type": "code",
      "source": [
        "# 13. Create a class Rectangle with methods set_dimensions() to set the dimensions and area() to calculate the\n",
        "#area\n",
        "class Rectangle:\n",
        "    def __init__(self, width=0, height=0):\n",
        "        self.width = width\n",
        "        self.height = height\n",
        "\n",
        "    def set_dimensions(self, width, height):\n",
        "        self.width = width\n",
        "        self.height = height\n",
        "\n",
        "    def area(self):\n",
        "        return self.width * self.height\n",
        "\n",
        "    def display(self):\n",
        "        print(f\"Rectangle: Width = {self.width}, Height = {self.height}, Area = {self.area()}\")\n",
        "\n",
        "# Creating a Rectangle instance\n",
        "rect = Rectangle()\n",
        "\n",
        "# Setting dimensions\n",
        "rect.set_dimensions(5, 10)\n",
        "\n",
        "# Displaying the rectangle details\n",
        "rect.display()  # Output: Rectangle: Width = 5, Height = 10, Area = 50\n"
      ],
      "metadata": {
        "colab": {
          "base_uri": "https://localhost:8080/"
        },
        "id": "BKWsI-zhuX8x",
        "outputId": "6fc83c03-16dc-4f77-8d55-2b09f5bc79ba"
      },
      "execution_count": 26,
      "outputs": [
        {
          "output_type": "stream",
          "name": "stdout",
          "text": [
            "Rectangle: Width = 5, Height = 10, Area = 50\n"
          ]
        }
      ]
    },
    {
      "cell_type": "code",
      "source": [
        "# 14. Create a class Employee with a method calculate_salary() that computes the salary based on hours worked\n",
        "#and hourly rate. Create a derived class Manager that adds a bonus to the salary\n",
        "# Base class: Employee\n",
        "class Employee:\n",
        "    def __init__(self, name, hours_worked, hourly_rate):\n",
        "        self.name = name\n",
        "        self.hours_worked = hours_worked\n",
        "        self.hourly_rate = hourly_rate\n",
        "\n",
        "    def calculate_salary(self):\n",
        "        return self.hours_worked * self.hourly_rate\n",
        "\n",
        "    def display(self):\n",
        "        print(f\"Employee: {self.name}, Salary: ${self.calculate_salary():.2f}\")\n",
        "\n",
        "# Derived class: Manager (inherits from Employee)\n",
        "class Manager(Employee):\n",
        "    def __init__(self, name, hours_worked, hourly_rate, bonus):\n",
        "        super().__init__(name, hours_worked, hourly_rate)  # Call parent constructor\n",
        "        self.bonus = bonus\n",
        "\n",
        "    def calculate_salary(self):\n",
        "        return super().calculate_salary() + self.bonus  # Base salary + bonus\n",
        "\n",
        "    def display(self):\n",
        "        print(f\"Manager: {self.name}, Salary: ${self.calculate_salary():.2f} (including bonus)\")\n",
        "\n",
        "# Creating Employee and Manager instances\n",
        "emp = Employee(\"Alice\", 40, 20)  # 40 hours at $20/hour\n",
        "mgr = Manager(\"Bob\", 40, 30, 500)  # 40 hours at $30/hour + $500 bonus\n",
        "\n",
        "# Displaying salaries\n",
        "emp.display()  # Output: Employee: Alice, Salary: $800.00\n",
        "mgr.display()  # Output: Manager: Bob, Salary: $1700.00 (including bonus)\n"
      ],
      "metadata": {
        "colab": {
          "base_uri": "https://localhost:8080/"
        },
        "id": "hY9A-X_Xuq--",
        "outputId": "41dc82b8-ef31-489a-f754-8ae5e48d57df"
      },
      "execution_count": 27,
      "outputs": [
        {
          "output_type": "stream",
          "name": "stdout",
          "text": [
            "Employee: Alice, Salary: $800.00\n",
            "Manager: Bob, Salary: $1700.00 (including bonus)\n"
          ]
        }
      ]
    },
    {
      "cell_type": "code",
      "source": [
        "#15. Create a class Product with attributes name, price, and quantity. Implement a method total_price() that\n",
        "#calculates the total price of the product\n",
        "class Product:\n",
        "    def __init__(self, name, price, quantity):\n",
        "        self.name = name\n",
        "        self.price = price\n",
        "        self.quantity = quantity\n",
        "\n",
        "    def total_price(self):\n",
        "        return self.price * self.quantity\n",
        "\n",
        "    def display(self):\n",
        "        print(f\"Product: {self.name}, Unit Price: ${self.price:.2f}, Quantity: {self.quantity}, Total Price: ${self.total_price():.2f}\")\n",
        "\n",
        "# Creating product instances\n",
        "product1 = Product(\"Laptop\", 1000, 2)\n",
        "product2 = Product(\"Phone\", 500, 3)\n",
        "\n",
        "# Displaying product details\n",
        "product1.display()  # Output: Product: Laptop, Unit Price: $1000.00, Quantity: 2, Total Price: $2000.00\n",
        "product2.display()  # Output: Product: Phone, Unit Price: $500.00, Quantity: 3, Total Price: $1500.00\n"
      ],
      "metadata": {
        "colab": {
          "base_uri": "https://localhost:8080/"
        },
        "id": "hXOEJ8qsu8hL",
        "outputId": "db082ece-4bfd-45e4-de0d-f8620623f8d8"
      },
      "execution_count": 28,
      "outputs": [
        {
          "output_type": "stream",
          "name": "stdout",
          "text": [
            "Product: Laptop, Unit Price: $1000.00, Quantity: 2, Total Price: $2000.00\n",
            "Product: Phone, Unit Price: $500.00, Quantity: 3, Total Price: $1500.00\n"
          ]
        }
      ]
    },
    {
      "cell_type": "code",
      "source": [
        "# 16. Create a class Animal with an abstract method sound(). Create two derived classes Cow and Sheep that\n",
        "#implement the sound() method\n",
        "from abc import ABC, abstractmethod\n",
        "\n",
        "# Abstract base class\n",
        "class Animal(ABC):\n",
        "    @abstractmethod\n",
        "    def sound(self):\n",
        "        pass  # Abstract method, must be implemented in subclasses\n",
        "\n",
        "# Derived class: Cow\n",
        "class Cow(Animal):\n",
        "    def sound(self):\n",
        "        return \"Moo!\"\n",
        "\n",
        "# Derived class: Sheep\n",
        "class Sheep(Animal):\n",
        "    def sound(self):\n",
        "        return \"Baa!\"\n",
        "\n",
        "# Creating instances\n",
        "cow = Cow()\n",
        "sheep = Sheep()\n",
        "\n",
        "# Calling sound method\n",
        "print(f\"Cow: {cow.sound()}\")    # Output: Cow: Moo!\n",
        "print(f\"Sheep: {sheep.sound()}\") # Output: Sheep: Baa!\n"
      ],
      "metadata": {
        "colab": {
          "base_uri": "https://localhost:8080/"
        },
        "id": "8wjAbLp2vM51",
        "outputId": "d5a60e77-44d4-4de2-956d-34f0f72db457"
      },
      "execution_count": 29,
      "outputs": [
        {
          "output_type": "stream",
          "name": "stdout",
          "text": [
            "Cow: Moo!\n",
            "Sheep: Baa!\n"
          ]
        }
      ]
    },
    {
      "cell_type": "code",
      "source": [
        "# 17. Create a class Book with attributes title, author, and year_published. Add a method get_book_info() that\n",
        "#returns a formatted string with the book's details.\n",
        "class Book:\n",
        "    def __init__(self, title, author, year_published):\n",
        "        self.title = title\n",
        "        self.author = author\n",
        "        self.year_published = year_published\n",
        "\n",
        "    def get_book_info(self):\n",
        "        return f\"'{self.title}' by {self.author}, published in {self.year_published}.\"\n",
        "\n",
        "# Creating book instances\n",
        "book1 = Book(\"To Kill a Mockingbird\", \"Harper Lee\", 1960)\n",
        "book2 = Book(\"1984\", \"George Orwell\", 1949)\n",
        "\n",
        "# Displaying book information\n",
        "print(book1.get_book_info())  # Output: 'To Kill a Mockingbird' by Harper Lee, published in 1960.\n",
        "print(book2.get_book_info())  # Output: '1984' by George Orwell, published in 1949.\n"
      ],
      "metadata": {
        "colab": {
          "base_uri": "https://localhost:8080/"
        },
        "id": "gbqiA6U8vcZ3",
        "outputId": "e0874ab8-c9a2-43ce-c5e3-c0d7e96c7c66"
      },
      "execution_count": 30,
      "outputs": [
        {
          "output_type": "stream",
          "name": "stdout",
          "text": [
            "'To Kill a Mockingbird' by Harper Lee, published in 1960.\n",
            "'1984' by George Orwell, published in 1949.\n"
          ]
        }
      ]
    },
    {
      "cell_type": "code",
      "source": [
        "# 18. Create a class House with attributes address and price. Create a derived class Mansion that adds an\n",
        "#attribute number_of_rooms\n",
        "# Base class: House\n",
        "class House:\n",
        "    def __init__(self, address, price):\n",
        "        self.address = address\n",
        "        self.price = price\n",
        "\n",
        "    def get_details(self):\n",
        "        return f\"Address: {self.address}, Price: ${self.price:,.2f}\"\n",
        "\n",
        "# Derived class: Mansion (inherits from House)\n",
        "class Mansion(House):\n",
        "    def __init__(self, address, price, number_of_rooms):\n",
        "        super().__init__(address, price)  # Call parent constructor\n",
        "        self.number_of_rooms = number_of_rooms\n",
        "\n",
        "    def get_details(self):\n",
        "        return f\"{super().get_details()}, Number of Rooms: {self.number_of_rooms}\"\n",
        "\n",
        "# Creating instances\n",
        "house = House(\"123 Elm St\", 250000)\n",
        "mansion = Mansion(\"456 Oak Ave\", 2000000, 10)\n",
        "\n",
        "# Displaying house details\n",
        "print(house.get_details())  # Output: Address: 123 Elm St, Price: $250,000.00\n",
        "print(mansion.get_details()) # Output: Address: 456 Oak Ave, Price: $2,000,000.00, Number of Rooms: 10\n"
      ],
      "metadata": {
        "colab": {
          "base_uri": "https://localhost:8080/"
        },
        "id": "V8IQwsE4vroF",
        "outputId": "d47d1632-bb3d-4eac-a8f1-991b90bda607"
      },
      "execution_count": 31,
      "outputs": [
        {
          "output_type": "stream",
          "name": "stdout",
          "text": [
            "Address: 123 Elm St, Price: $250,000.00\n",
            "Address: 456 Oak Ave, Price: $2,000,000.00, Number of Rooms: 10\n"
          ]
        }
      ]
    }
  ]
}